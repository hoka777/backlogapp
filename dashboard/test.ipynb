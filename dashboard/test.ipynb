{
 "cells": [
  {
   "cell_type": "code",
   "execution_count": null,
   "id": "e28e82d1",
   "metadata": {},
   "outputs": [
    {
     "data": {
      "application/vnd.plotly.v1+json": {
       "config": {
        "plotlyServerURL": "https://plot.ly"
       },
       "data": [
        {
         "base": [
          "2025-07-01T00:00:00"
         ],
         "hovertemplate": "<b>%{y}</b><br>Начало: %{base|%d.%m.%Y}<br>Конец: %{x+base|%d.%m.%Y}<extra></extra>",
         "marker": {
          "color": "#6A1B9A"
         },
         "orientation": "h",
         "type": "bar",
         "x": [
          19
         ],
         "y": [
          "Epic 1"
         ]
        },
        {
         "base": [
          "2025-08-10T00:00:00"
         ],
         "hovertemplate": "<b>%{y}</b><br>Начало: %{base|%d.%m.%Y}<br>Конец: %{x+base|%d.%m.%Y}<extra></extra>",
         "marker": {
          "color": "#6A1B9A"
         },
         "orientation": "h",
         "type": "bar",
         "x": [
          26
         ],
         "y": [
          "Epic 2"
         ]
        },
        {
         "base": [
          "2025-07-15T00:00:00"
         ],
         "hovertemplate": "<b>%{y}</b><br>Начало: %{base|%d.%m.%Y}<br>Конец: %{x+base|%d.%m.%Y}<extra></extra>",
         "marker": {
          "color": "#6A1B9A"
         },
         "orientation": "h",
         "type": "bar",
         "x": [
          62
         ],
         "y": [
          "Epic 3"
         ]
        }
       ],
       "layout": {
        "annotations": [
         {
          "font": {
           "size": 16
          },
          "showarrow": false,
          "text": "Июль",
          "x": "2025-07-16T00:00:00",
          "xref": "x",
          "y": 1.02,
          "yref": "paper"
         },
         {
          "font": {
           "size": 16
          },
          "showarrow": false,
          "text": "Август",
          "x": "2025-08-16T00:00:00",
          "xref": "x",
          "y": 1.02,
          "yref": "paper"
         },
         {
          "font": {
           "size": 16
          },
          "showarrow": false,
          "text": "Сентябрь",
          "x": "2025-09-15T12:00:00",
          "xref": "x",
          "y": 1.02,
          "yref": "paper"
         }
        ],
        "barmode": "overlay",
        "height": 400,
        "margin": {
         "b": 80,
         "t": 80
        },
        "shapes": [
         {
          "fillcolor": "#A8E6CF",
          "layer": "below",
          "line": {
           "width": 0
          },
          "type": "rect",
          "x0": "2025-07-01",
          "x1": "2025-07-31",
          "y0": -0.5,
          "y1": 2.5
         },
         {
          "fillcolor": "#FFD3B6",
          "layer": "below",
          "line": {
           "width": 0
          },
          "type": "rect",
          "x0": "2025-08-01",
          "x1": "2025-08-31",
          "y0": -0.5,
          "y1": 2.5
         },
         {
          "fillcolor": "#A8E6CF",
          "layer": "below",
          "line": {
           "width": 0
          },
          "type": "rect",
          "x0": "2025-09-01",
          "x1": "2025-09-30",
          "y0": -0.5,
          "y1": 2.5
         },
         {
          "layer": "below",
          "line": {
           "color": "#FFECB3",
           "width": 20
          },
          "type": "line",
          "x0": "2025-07-15",
          "x1": "2025-07-15",
          "y0": -0.5,
          "y1": 2.5
         },
         {
          "layer": "below",
          "line": {
           "color": "#FFECB3",
           "width": 20
          },
          "type": "line",
          "x0": "2025-08-15",
          "x1": "2025-08-15",
          "y0": -0.5,
          "y1": 2.5
         },
         {
          "layer": "below",
          "line": {
           "color": "#FFECB3",
           "width": 20
          },
          "type": "line",
          "x0": "2025-09-15",
          "x1": "2025-09-15",
          "y0": -0.5,
          "y1": 2.5
         }
        ],
        "template": {
         "data": {
          "bar": [
           {
            "error_x": {
             "color": "#2a3f5f"
            },
            "error_y": {
             "color": "#2a3f5f"
            },
            "marker": {
             "line": {
              "color": "#E5ECF6",
              "width": 0.5
             },
             "pattern": {
              "fillmode": "overlay",
              "size": 10,
              "solidity": 0.2
             }
            },
            "type": "bar"
           }
          ],
          "barpolar": [
           {
            "marker": {
             "line": {
              "color": "#E5ECF6",
              "width": 0.5
             },
             "pattern": {
              "fillmode": "overlay",
              "size": 10,
              "solidity": 0.2
             }
            },
            "type": "barpolar"
           }
          ],
          "carpet": [
           {
            "aaxis": {
             "endlinecolor": "#2a3f5f",
             "gridcolor": "white",
             "linecolor": "white",
             "minorgridcolor": "white",
             "startlinecolor": "#2a3f5f"
            },
            "baxis": {
             "endlinecolor": "#2a3f5f",
             "gridcolor": "white",
             "linecolor": "white",
             "minorgridcolor": "white",
             "startlinecolor": "#2a3f5f"
            },
            "type": "carpet"
           }
          ],
          "choropleth": [
           {
            "colorbar": {
             "outlinewidth": 0,
             "ticks": ""
            },
            "type": "choropleth"
           }
          ],
          "contour": [
           {
            "colorbar": {
             "outlinewidth": 0,
             "ticks": ""
            },
            "colorscale": [
             [
              0,
              "#0d0887"
             ],
             [
              0.1111111111111111,
              "#46039f"
             ],
             [
              0.2222222222222222,
              "#7201a8"
             ],
             [
              0.3333333333333333,
              "#9c179e"
             ],
             [
              0.4444444444444444,
              "#bd3786"
             ],
             [
              0.5555555555555556,
              "#d8576b"
             ],
             [
              0.6666666666666666,
              "#ed7953"
             ],
             [
              0.7777777777777778,
              "#fb9f3a"
             ],
             [
              0.8888888888888888,
              "#fdca26"
             ],
             [
              1,
              "#f0f921"
             ]
            ],
            "type": "contour"
           }
          ],
          "contourcarpet": [
           {
            "colorbar": {
             "outlinewidth": 0,
             "ticks": ""
            },
            "type": "contourcarpet"
           }
          ],
          "heatmap": [
           {
            "colorbar": {
             "outlinewidth": 0,
             "ticks": ""
            },
            "colorscale": [
             [
              0,
              "#0d0887"
             ],
             [
              0.1111111111111111,
              "#46039f"
             ],
             [
              0.2222222222222222,
              "#7201a8"
             ],
             [
              0.3333333333333333,
              "#9c179e"
             ],
             [
              0.4444444444444444,
              "#bd3786"
             ],
             [
              0.5555555555555556,
              "#d8576b"
             ],
             [
              0.6666666666666666,
              "#ed7953"
             ],
             [
              0.7777777777777778,
              "#fb9f3a"
             ],
             [
              0.8888888888888888,
              "#fdca26"
             ],
             [
              1,
              "#f0f921"
             ]
            ],
            "type": "heatmap"
           }
          ],
          "heatmapgl": [
           {
            "colorbar": {
             "outlinewidth": 0,
             "ticks": ""
            },
            "colorscale": [
             [
              0,
              "#0d0887"
             ],
             [
              0.1111111111111111,
              "#46039f"
             ],
             [
              0.2222222222222222,
              "#7201a8"
             ],
             [
              0.3333333333333333,
              "#9c179e"
             ],
             [
              0.4444444444444444,
              "#bd3786"
             ],
             [
              0.5555555555555556,
              "#d8576b"
             ],
             [
              0.6666666666666666,
              "#ed7953"
             ],
             [
              0.7777777777777778,
              "#fb9f3a"
             ],
             [
              0.8888888888888888,
              "#fdca26"
             ],
             [
              1,
              "#f0f921"
             ]
            ],
            "type": "heatmapgl"
           }
          ],
          "histogram": [
           {
            "marker": {
             "pattern": {
              "fillmode": "overlay",
              "size": 10,
              "solidity": 0.2
             }
            },
            "type": "histogram"
           }
          ],
          "histogram2d": [
           {
            "colorbar": {
             "outlinewidth": 0,
             "ticks": ""
            },
            "colorscale": [
             [
              0,
              "#0d0887"
             ],
             [
              0.1111111111111111,
              "#46039f"
             ],
             [
              0.2222222222222222,
              "#7201a8"
             ],
             [
              0.3333333333333333,
              "#9c179e"
             ],
             [
              0.4444444444444444,
              "#bd3786"
             ],
             [
              0.5555555555555556,
              "#d8576b"
             ],
             [
              0.6666666666666666,
              "#ed7953"
             ],
             [
              0.7777777777777778,
              "#fb9f3a"
             ],
             [
              0.8888888888888888,
              "#fdca26"
             ],
             [
              1,
              "#f0f921"
             ]
            ],
            "type": "histogram2d"
           }
          ],
          "histogram2dcontour": [
           {
            "colorbar": {
             "outlinewidth": 0,
             "ticks": ""
            },
            "colorscale": [
             [
              0,
              "#0d0887"
             ],
             [
              0.1111111111111111,
              "#46039f"
             ],
             [
              0.2222222222222222,
              "#7201a8"
             ],
             [
              0.3333333333333333,
              "#9c179e"
             ],
             [
              0.4444444444444444,
              "#bd3786"
             ],
             [
              0.5555555555555556,
              "#d8576b"
             ],
             [
              0.6666666666666666,
              "#ed7953"
             ],
             [
              0.7777777777777778,
              "#fb9f3a"
             ],
             [
              0.8888888888888888,
              "#fdca26"
             ],
             [
              1,
              "#f0f921"
             ]
            ],
            "type": "histogram2dcontour"
           }
          ],
          "mesh3d": [
           {
            "colorbar": {
             "outlinewidth": 0,
             "ticks": ""
            },
            "type": "mesh3d"
           }
          ],
          "parcoords": [
           {
            "line": {
             "colorbar": {
              "outlinewidth": 0,
              "ticks": ""
             }
            },
            "type": "parcoords"
           }
          ],
          "pie": [
           {
            "automargin": true,
            "type": "pie"
           }
          ],
          "scatter": [
           {
            "fillpattern": {
             "fillmode": "overlay",
             "size": 10,
             "solidity": 0.2
            },
            "type": "scatter"
           }
          ],
          "scatter3d": [
           {
            "line": {
             "colorbar": {
              "outlinewidth": 0,
              "ticks": ""
             }
            },
            "marker": {
             "colorbar": {
              "outlinewidth": 0,
              "ticks": ""
             }
            },
            "type": "scatter3d"
           }
          ],
          "scattercarpet": [
           {
            "marker": {
             "colorbar": {
              "outlinewidth": 0,
              "ticks": ""
             }
            },
            "type": "scattercarpet"
           }
          ],
          "scattergeo": [
           {
            "marker": {
             "colorbar": {
              "outlinewidth": 0,
              "ticks": ""
             }
            },
            "type": "scattergeo"
           }
          ],
          "scattergl": [
           {
            "marker": {
             "colorbar": {
              "outlinewidth": 0,
              "ticks": ""
             }
            },
            "type": "scattergl"
           }
          ],
          "scattermapbox": [
           {
            "marker": {
             "colorbar": {
              "outlinewidth": 0,
              "ticks": ""
             }
            },
            "type": "scattermapbox"
           }
          ],
          "scatterpolar": [
           {
            "marker": {
             "colorbar": {
              "outlinewidth": 0,
              "ticks": ""
             }
            },
            "type": "scatterpolar"
           }
          ],
          "scatterpolargl": [
           {
            "marker": {
             "colorbar": {
              "outlinewidth": 0,
              "ticks": ""
             }
            },
            "type": "scatterpolargl"
           }
          ],
          "scatterternary": [
           {
            "marker": {
             "colorbar": {
              "outlinewidth": 0,
              "ticks": ""
             }
            },
            "type": "scatterternary"
           }
          ],
          "surface": [
           {
            "colorbar": {
             "outlinewidth": 0,
             "ticks": ""
            },
            "colorscale": [
             [
              0,
              "#0d0887"
             ],
             [
              0.1111111111111111,
              "#46039f"
             ],
             [
              0.2222222222222222,
              "#7201a8"
             ],
             [
              0.3333333333333333,
              "#9c179e"
             ],
             [
              0.4444444444444444,
              "#bd3786"
             ],
             [
              0.5555555555555556,
              "#d8576b"
             ],
             [
              0.6666666666666666,
              "#ed7953"
             ],
             [
              0.7777777777777778,
              "#fb9f3a"
             ],
             [
              0.8888888888888888,
              "#fdca26"
             ],
             [
              1,
              "#f0f921"
             ]
            ],
            "type": "surface"
           }
          ],
          "table": [
           {
            "cells": {
             "fill": {
              "color": "#EBF0F8"
             },
             "line": {
              "color": "white"
             }
            },
            "header": {
             "fill": {
              "color": "#C8D4E3"
             },
             "line": {
              "color": "white"
             }
            },
            "type": "table"
           }
          ]
         },
         "layout": {
          "annotationdefaults": {
           "arrowcolor": "#2a3f5f",
           "arrowhead": 0,
           "arrowwidth": 1
          },
          "autotypenumbers": "strict",
          "coloraxis": {
           "colorbar": {
            "outlinewidth": 0,
            "ticks": ""
           }
          },
          "colorscale": {
           "diverging": [
            [
             0,
             "#8e0152"
            ],
            [
             0.1,
             "#c51b7d"
            ],
            [
             0.2,
             "#de77ae"
            ],
            [
             0.3,
             "#f1b6da"
            ],
            [
             0.4,
             "#fde0ef"
            ],
            [
             0.5,
             "#f7f7f7"
            ],
            [
             0.6,
             "#e6f5d0"
            ],
            [
             0.7,
             "#b8e186"
            ],
            [
             0.8,
             "#7fbc41"
            ],
            [
             0.9,
             "#4d9221"
            ],
            [
             1,
             "#276419"
            ]
           ],
           "sequential": [
            [
             0,
             "#0d0887"
            ],
            [
             0.1111111111111111,
             "#46039f"
            ],
            [
             0.2222222222222222,
             "#7201a8"
            ],
            [
             0.3333333333333333,
             "#9c179e"
            ],
            [
             0.4444444444444444,
             "#bd3786"
            ],
            [
             0.5555555555555556,
             "#d8576b"
            ],
            [
             0.6666666666666666,
             "#ed7953"
            ],
            [
             0.7777777777777778,
             "#fb9f3a"
            ],
            [
             0.8888888888888888,
             "#fdca26"
            ],
            [
             1,
             "#f0f921"
            ]
           ],
           "sequentialminus": [
            [
             0,
             "#0d0887"
            ],
            [
             0.1111111111111111,
             "#46039f"
            ],
            [
             0.2222222222222222,
             "#7201a8"
            ],
            [
             0.3333333333333333,
             "#9c179e"
            ],
            [
             0.4444444444444444,
             "#bd3786"
            ],
            [
             0.5555555555555556,
             "#d8576b"
            ],
            [
             0.6666666666666666,
             "#ed7953"
            ],
            [
             0.7777777777777778,
             "#fb9f3a"
            ],
            [
             0.8888888888888888,
             "#fdca26"
            ],
            [
             1,
             "#f0f921"
            ]
           ]
          },
          "colorway": [
           "#636efa",
           "#EF553B",
           "#00cc96",
           "#ab63fa",
           "#FFA15A",
           "#19d3f3",
           "#FF6692",
           "#B6E880",
           "#FF97FF",
           "#FECB52"
          ],
          "font": {
           "color": "#2a3f5f"
          },
          "geo": {
           "bgcolor": "white",
           "lakecolor": "white",
           "landcolor": "#E5ECF6",
           "showlakes": true,
           "showland": true,
           "subunitcolor": "white"
          },
          "hoverlabel": {
           "align": "left"
          },
          "hovermode": "closest",
          "mapbox": {
           "style": "light"
          },
          "paper_bgcolor": "white",
          "plot_bgcolor": "#E5ECF6",
          "polar": {
           "angularaxis": {
            "gridcolor": "white",
            "linecolor": "white",
            "ticks": ""
           },
           "bgcolor": "#E5ECF6",
           "radialaxis": {
            "gridcolor": "white",
            "linecolor": "white",
            "ticks": ""
           }
          },
          "scene": {
           "xaxis": {
            "backgroundcolor": "#E5ECF6",
            "gridcolor": "white",
            "gridwidth": 2,
            "linecolor": "white",
            "showbackground": true,
            "ticks": "",
            "zerolinecolor": "white"
           },
           "yaxis": {
            "backgroundcolor": "#E5ECF6",
            "gridcolor": "white",
            "gridwidth": 2,
            "linecolor": "white",
            "showbackground": true,
            "ticks": "",
            "zerolinecolor": "white"
           },
           "zaxis": {
            "backgroundcolor": "#E5ECF6",
            "gridcolor": "white",
            "gridwidth": 2,
            "linecolor": "white",
            "showbackground": true,
            "ticks": "",
            "zerolinecolor": "white"
           }
          },
          "shapedefaults": {
           "line": {
            "color": "#2a3f5f"
           }
          },
          "ternary": {
           "aaxis": {
            "gridcolor": "white",
            "linecolor": "white",
            "ticks": ""
           },
           "baxis": {
            "gridcolor": "white",
            "linecolor": "white",
            "ticks": ""
           },
           "bgcolor": "#E5ECF6",
           "caxis": {
            "gridcolor": "white",
            "linecolor": "white",
            "ticks": ""
           }
          },
          "title": {
           "x": 0.05
          },
          "xaxis": {
           "automargin": true,
           "gridcolor": "white",
           "linecolor": "white",
           "ticks": "",
           "title": {
            "standoff": 15
           },
           "zerolinecolor": "white",
           "zerolinewidth": 2
          },
          "yaxis": {
           "automargin": true,
           "gridcolor": "white",
           "linecolor": "white",
           "ticks": "",
           "title": {
            "standoff": 15
           },
           "zerolinecolor": "white",
           "zerolinewidth": 2
          }
         }
        },
        "xaxis": {
         "range": [
          "2025-07-01",
          "2025-09-30"
         ],
         "tickformat": "%d.%m",
         "tickmode": "array",
         "ticktext": [
          "Неделя 28",
          "Неделя 29",
          "Неделя 30",
          "Неделя 31",
          "Неделя 32",
          "Неделя 33",
          "Неделя 34",
          "Неделя 35",
          "Неделя 36",
          "Неделя 37",
          "Неделя 38",
          "Неделя 39",
          "Неделя 40"
         ],
         "tickvals": [
          "2025-07-07T00:00:00",
          "2025-07-14T00:00:00",
          "2025-07-21T00:00:00",
          "2025-07-28T00:00:00",
          "2025-08-04T00:00:00",
          "2025-08-11T00:00:00",
          "2025-08-18T00:00:00",
          "2025-08-25T00:00:00",
          "2025-09-01T00:00:00",
          "2025-09-08T00:00:00",
          "2025-09-15T00:00:00",
          "2025-09-22T00:00:00",
          "2025-09-29T00:00:00"
         ]
        },
        "yaxis": {
         "autorange": "reversed"
        }
       }
      }
     },
     "metadata": {},
     "output_type": "display_data"
    }
   ],
   "source": [
    "import datetime\n",
    "import pandas as pd\n",
    "import plotly.graph_objects as go\n",
    "\n",
    "# 1) Подготовим примерные данные\n",
    "epics = pd.DataFrame([\n",
    "    dict(name=\"Epic 1\", start=\"2025-07-01\", end=\"2025-07-20\"),\n",
    "    dict(name=\"Epic 2\", start=\"2025-08-10\", end=\"2025-09-05\"),\n",
    "    dict(name=\"Epic 3\", start=\"2025-07-15\", end=\"2025-09-15\"),\n",
    "])\n",
    "epics[\"Start\"] = pd.to_datetime(epics[\"start\"])\n",
    "epics[\"End\"]   = pd.to_datetime(epics[\"end\"])\n",
    "epics[\"Duration\"] = (epics[\"End\"] - epics[\"Start\"]).dt.days\n",
    "\n",
    "# 2) Определим месяцы и недели для фона\n",
    "months = [\n",
    "    (\"2025-07-01\", \"2025-07-31\", \"#A8E6CF\", \"Июль\"),\n",
    "    (\"2025-08-01\", \"2025-08-31\", \"#FFD3B6\", \"Август\"),\n",
    "    (\"2025-09-01\", \"2025-09-30\", \"#A8E6CF\", \"Сентябрь\"),\n",
    "]\n",
    "# генерим по 1-ой секунде каждого дня\n",
    "weeks = pd.date_range(\"2025-07-01\", \"2025-09-30\", freq=\"W-MON\")\n",
    "\n",
    "fig = go.Figure()\n",
    "\n",
    "# 3) Добавим месяцовые фоны\n",
    "for start, end, color, label in months:\n",
    "    fig.add_shape(type=\"rect\",\n",
    "                  x0=start, x1=end,\n",
    "                  y0=-0.5, y1=len(epics)-0.5,\n",
    "                  fillcolor=color, line_width=0, layer=\"below\")\n",
    "    # и подпись месяца над графиком\n",
    "    mid = (pd.to_datetime(start) + (pd.to_datetime(end)-pd.to_datetime(start))/2)\n",
    "    fig.add_annotation(x=mid, y=1.02, xref=\"x\", yref=\"paper\",\n",
    "                       text=label, showarrow=False, font_size=16)\n",
    "\n",
    "# 4) Добавим вертикальные линии-демо (пример)\n",
    "demo_dates = [\"2025-07-15\", \"2025-08-15\", \"2025-09-15\"]\n",
    "for d in demo_dates:\n",
    "    dt = pd.to_datetime(d)\n",
    "    fig.add_shape(\n",
    "        type=\"rect\",\n",
    "        x0=dt - pd.Timedelta(days=0.3),\n",
    "        x1=dt + pd.Timedelta(days=0.3),\n",
    "        y0=-0.5,\n",
    "        y1=len(epics)-0.5,        # или ваша длина списка задач\n",
    "        xref=\"x\",\n",
    "        yref=\"y\",\n",
    "        fillcolor=\"#FFECB3\",\n",
    "        line_width=0,\n",
    "        opacity=0.3,\n",
    "        layer=\"below\"\n",
    "    )\n",
    "\n",
    "\n",
    "# 5) Полосы эпиков\n",
    "for i, row in epics.iterrows():\n",
    "    fig.add_trace(go.Bar(\n",
    "        x=[row[\"Duration\"]],\n",
    "        y=[row[\"name\"]],\n",
    "        base=[row[\"Start\"]],\n",
    "        orientation=\"h\",\n",
    "        marker_color=\"#6A1B9A\",\n",
    "        hovertemplate=(\n",
    "            \"<b>%{y}</b><br>\"\n",
    "            \"Начало: %{base|%d.%m.%Y}<br>\"\n",
    "            \"Конец: %{x+base|%d.%m.%Y}<extra></extra>\"\n",
    "        )\n",
    "    ))\n",
    "\n",
    "# 6) Настроим ось X и Y\n",
    "fig.update_layout(\n",
    "    barmode=\"overlay\",\n",
    "    xaxis=dict(\n",
    "        tickformat=\"%d.%m\",\n",
    "        tickmode=\"array\",\n",
    "        tickvals=weeks,\n",
    "        ticktext=[f\"Неделя {w.isocalendar()[1]}\" for w in weeks],\n",
    "        range=[\"2025-07-01\", \"2025-09-30\"]\n",
    "    ),\n",
    "    yaxis=dict(autorange=\"reversed\"),  # чтобы Epic 1 был сверху\n",
    "    margin=dict(t=80, b=80),\n",
    "    height=400,\n",
    ")\n",
    "\n",
    "fig.show()\n"
   ]
  }
 ],
 "metadata": {
  "kernelspec": {
   "display_name": "Python 3",
   "language": "python",
   "name": "python3"
  },
  "language_info": {
   "codemirror_mode": {
    "name": "ipython",
    "version": 3
   },
   "file_extension": ".py",
   "mimetype": "text/x-python",
   "name": "python",
   "nbconvert_exporter": "python",
   "pygments_lexer": "ipython3",
   "version": "3.11.2"
  }
 },
 "nbformat": 4,
 "nbformat_minor": 5
}
